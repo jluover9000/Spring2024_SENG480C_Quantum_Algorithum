{
 "cells": [
  {
   "cell_type": "code",
   "execution_count": 204,
   "id": "8e2a30be-4388-4005-9dad-bf78acd31f05",
   "metadata": {},
   "outputs": [],
   "source": [
    "from qiskit import QuantumCircuit, Aer, execute\n",
    "from qiskit.visualization import plot_histogram\n",
    "import numpy as np\n",
    "import math\n",
    "from qiskit import QuantumRegister\n",
    "from qiskit.circuit import AncillaQubit\n",
    "from qiskit.circuit.library import GroverOperator, MCMT, ZGate"
   ]
  },
  {
   "cell_type": "code",
   "execution_count": 205,
   "id": "e7c3ab86-cd3a-472d-bc4c-7d4054038dfb",
   "metadata": {},
   "outputs": [
    {
     "data": {
      "text/html": [
       "<pre style=\"word-wrap: normal;white-space: pre;background: #fff0;line-height: 1.1;font-family: &quot;Courier New&quot;,Courier,monospace\">               ░ ┌───┐\n",
       "    q_0: ──────░─┤ H ├\n",
       "               ░ ├───┤\n",
       "    q_1: ──────░─┤ H ├\n",
       "               ░ ├───┤\n",
       "    q_2: ──────░─┤ H ├\n",
       "         ┌───┐ ░ ├───┤\n",
       "ancilla: ┤ X ├─░─┤ H ├\n",
       "         └───┘ ░ └───┘\n",
       "    c: 3/═════════════\n",
       "                      </pre>"
      ],
      "text/plain": [
       "               ░ ┌───┐\n",
       "    q_0: ──────░─┤ H ├\n",
       "               ░ ├───┤\n",
       "    q_1: ──────░─┤ H ├\n",
       "               ░ ├───┤\n",
       "    q_2: ──────░─┤ H ├\n",
       "         ┌───┐ ░ ├───┤\n",
       "ancilla: ┤ X ├─░─┤ H ├\n",
       "         └───┘ ░ └───┘\n",
       "    c: 3/═════════════\n",
       "                      "
      ]
     },
     "execution_count": 205,
     "metadata": {},
     "output_type": "execute_result"
    }
   ],
   "source": [
    "# Create a quantum circuit\n",
    "qc = QuantumCircuit(3,3)\n",
    "\n",
    "# Create a quantum register for the ancilla qubit\n",
    "ancilla_register = QuantumRegister(1, 'ancilla')\n",
    "\n",
    "# Add the ancilla register to the quantum circuit\n",
    "qc.add_register(ancilla_register)\n",
    "\n",
    "# Create an ancilla qubit using the AncillaQubit class\n",
    "ancilla_qubit = AncillaQubit(ancilla_register, 0)\n",
    "\n",
    "# Apply Not-gate to ancilla qubit\n",
    "qc.x(3)\n",
    "qc.barrier(0,1,2,3)\n",
    "\n",
    "# Apply Hadamard gates to all qubits (including the ancilla qubit)\n",
    "qc.h(range(4))\n",
    "\n",
    "# Draw the circuit\n",
    "qc.draw()\n"
   ]
  },
  {
   "cell_type": "code",
   "execution_count": 206,
   "id": "ed57106d-cbd2-40a0-bbe9-fcc2aaebc412",
   "metadata": {},
   "outputs": [],
   "source": [
    "def boolean_oracle(qc):\n",
    "    # Applying X gate to qubit 0 and qubit 2 for the target state |010⟩ => |111⟩\n",
    "    qc.x(0)\n",
    "    qc.x(2)\n",
    "    qc.compose(MCMT('cx', 3, 1), inplace=True)\n",
    "    qc.x(0)\n",
    "    qc.x(2)\n",
    "    return qc"
   ]
  },
  {
   "cell_type": "code",
   "execution_count": 207,
   "id": "df60fe57-98b5-4e77-8350-5cf9e99d1de8",
   "metadata": {},
   "outputs": [],
   "source": [
    "def diffusion_with_auxiliary(qc):\n",
    "    # Step 1: Apply Hadamard gates to all qubits and the auxiliary qubit\n",
    "    qc.h(range(4))\n",
    "\n",
    "    # Step 2: Apply an X gate to all qubits and not the auxiliary qubit\n",
    "    qc.x(range(3))\n",
    "\n",
    "    # Step 3: Apply a multi-controlled Z gate\n",
    "    qc.compose(MCMT(ZGate(), 2, 1), inplace=True)\n",
    "\n",
    "    # Step 4: Apply an X gate to the auxiliary qubit again\n",
    "    qc.x(range(3))\n",
    "\n",
    "    # Step 5: Apply Hadamard gates to all qubits and not the auxiliary qubit\n",
    "    qc.h(range(3))\n",
    "\n",
    "    return qc\n"
   ]
  },
  {
   "cell_type": "code",
   "execution_count": 208,
   "id": "7d70b3aa-825a-420d-bbf4-4d2883fb425c",
   "metadata": {},
   "outputs": [],
   "source": [
    "optimal_num_iterations = math.floor(\n",
    "    math.pi / 4 * math.sqrt(8)\n",
    ")"
   ]
  },
  {
   "cell_type": "code",
   "execution_count": 209,
   "id": "6cd78fc2-d6ec-40e1-afa5-136c49129cef",
   "metadata": {},
   "outputs": [
    {
     "data": {
      "text/html": [
       "<pre style=\"word-wrap: normal;white-space: pre;background: #fff0;line-height: 1.1;font-family: &quot;Courier New&quot;,Courier,monospace\">               ░ ┌───┐┌───┐     ┌───┐ ░ ┌───┐┌───┐   ┌───┐┌───┐ ░ ┌───┐     »\n",
       "    q_0: ──────░─┤ H ├┤ X ├──■──┤ X ├─░─┤ H ├┤ X ├─■─┤ X ├┤ H ├─░─┤ X ├──■──»\n",
       "               ░ ├───┤└───┘  │  └───┘ ░ ├───┤├───┤ │ ├───┤├───┤ ░ └───┘  │  »\n",
       "    q_1: ──────░─┤ H ├───────■────────░─┤ H ├┤ X ├─■─┤ X ├┤ H ├─░────────■──»\n",
       "               ░ ├───┤┌───┐  │  ┌───┐ ░ ├───┤├───┤ │ ├───┤├───┤ ░ ┌───┐  │  »\n",
       "    q_2: ──────░─┤ H ├┤ X ├──■──┤ X ├─░─┤ H ├┤ X ├─■─┤ X ├┤ H ├─░─┤ X ├──■──»\n",
       "         ┌───┐ ░ ├───┤└───┘┌─┴─┐└───┘ ░ ├───┤└───┘   └───┘└───┘ ░ └───┘┌─┴─┐»\n",
       "ancilla: ┤ X ├─░─┤ H ├─────┤ X ├──────░─┤ H ├───────────────────░──────┤ X ├»\n",
       "         └───┘ ░ └───┘     └───┘      ░ └───┘                   ░      └───┘»\n",
       "    c: 3/═══════════════════════════════════════════════════════════════════»\n",
       "                                                                            »\n",
       "«         ┌───┐ ░ ┌───┐┌───┐   ┌───┐┌───┐ ░ \n",
       "«    q_0: ┤ X ├─░─┤ H ├┤ X ├─■─┤ X ├┤ H ├─░─\n",
       "«         └───┘ ░ ├───┤├───┤ │ ├───┤├───┤ ░ \n",
       "«    q_1: ──────░─┤ H ├┤ X ├─■─┤ X ├┤ H ├─░─\n",
       "«         ┌───┐ ░ ├───┤├───┤ │ ├───┤├───┤ ░ \n",
       "«    q_2: ┤ X ├─░─┤ H ├┤ X ├─■─┤ X ├┤ H ├─░─\n",
       "«         └───┘ ░ ├───┤└───┘   └───┘└───┘ ░ \n",
       "«ancilla: ──────░─┤ H ├───────────────────░─\n",
       "«               ░ └───┘                   ░ \n",
       "«    c: 3/══════════════════════════════════\n",
       "«                                           </pre>"
      ],
      "text/plain": [
       "               ░ ┌───┐┌───┐     ┌───┐ ░ ┌───┐┌───┐   ┌───┐┌───┐ ░ ┌───┐     »\n",
       "    q_0: ──────░─┤ H ├┤ X ├──■──┤ X ├─░─┤ H ├┤ X ├─■─┤ X ├┤ H ├─░─┤ X ├──■──»\n",
       "               ░ ├───┤└───┘  │  └───┘ ░ ├───┤├───┤ │ ├───┤├───┤ ░ └───┘  │  »\n",
       "    q_1: ──────░─┤ H ├───────■────────░─┤ H ├┤ X ├─■─┤ X ├┤ H ├─░────────■──»\n",
       "               ░ ├───┤┌───┐  │  ┌───┐ ░ ├───┤├───┤ │ ├───┤├───┤ ░ ┌───┐  │  »\n",
       "    q_2: ──────░─┤ H ├┤ X ├──■──┤ X ├─░─┤ H ├┤ X ├─■─┤ X ├┤ H ├─░─┤ X ├──■──»\n",
       "         ┌───┐ ░ ├───┤└───┘┌─┴─┐└───┘ ░ ├───┤└───┘   └───┘└───┘ ░ └───┘┌─┴─┐»\n",
       "ancilla: ┤ X ├─░─┤ H ├─────┤ X ├──────░─┤ H ├───────────────────░──────┤ X ├»\n",
       "         └───┘ ░ └───┘     └───┘      ░ └───┘                   ░      └───┘»\n",
       "    c: 3/═══════════════════════════════════════════════════════════════════»\n",
       "                                                                            »\n",
       "«         ┌───┐ ░ ┌───┐┌───┐   ┌───┐┌───┐ ░ \n",
       "«    q_0: ┤ X ├─░─┤ H ├┤ X ├─■─┤ X ├┤ H ├─░─\n",
       "«         └───┘ ░ ├───┤├───┤ │ ├───┤├───┤ ░ \n",
       "«    q_1: ──────░─┤ H ├┤ X ├─■─┤ X ├┤ H ├─░─\n",
       "«         ┌───┐ ░ ├───┤├───┤ │ ├───┤├───┤ ░ \n",
       "«    q_2: ┤ X ├─░─┤ H ├┤ X ├─■─┤ X ├┤ H ├─░─\n",
       "«         └───┘ ░ ├───┤└───┘   └───┘└───┘ ░ \n",
       "«ancilla: ──────░─┤ H ├───────────────────░─\n",
       "«               ░ └───┘                   ░ \n",
       "«    c: 3/══════════════════════════════════\n",
       "«                                           "
      ]
     },
     "execution_count": 209,
     "metadata": {},
     "output_type": "execute_result"
    }
   ],
   "source": [
    "for num in range(optimal_num_iterations):\n",
    "    boolean_oracle(qc)\n",
    "    qc.barrier(0,1,2,3)\n",
    "    diffusion_with_auxiliary(qc)\n",
    "    qc.barrier(0,1,2,3)\n",
    "    num += 1\n",
    "\n",
    "qc.draw()\n"
   ]
  },
  {
   "cell_type": "code",
   "execution_count": 210,
   "id": "35275796-2d4f-401d-b365-76ff01c436bc",
   "metadata": {},
   "outputs": [
    {
     "data": {
      "text/plain": [
       "<qiskit.circuit.instructionset.InstructionSet at 0x12317eb60>"
      ]
     },
     "execution_count": 210,
     "metadata": {},
     "output_type": "execute_result"
    }
   ],
   "source": [
    "qc.measure([0,1,2], [0,1,2])"
   ]
  },
  {
   "cell_type": "code",
   "execution_count": 211,
   "id": "8a220d6c-922a-4ae6-ab55-c2b3391aa3bf",
   "metadata": {},
   "outputs": [
    {
     "name": "stdout",
     "output_type": "stream",
     "text": [
      "               ░ ┌───┐┌───┐     ┌───┐ ░ ┌───┐┌───┐   ┌───┐┌───┐ ░ ┌───┐     »\n",
      "    q_0: ──────░─┤ H ├┤ X ├──■──┤ X ├─░─┤ H ├┤ X ├─■─┤ X ├┤ H ├─░─┤ X ├──■──»\n",
      "               ░ ├───┤└───┘  │  └───┘ ░ ├───┤├───┤ │ ├───┤├───┤ ░ └───┘  │  »\n",
      "    q_1: ──────░─┤ H ├───────■────────░─┤ H ├┤ X ├─■─┤ X ├┤ H ├─░────────■──»\n",
      "               ░ ├───┤┌───┐  │  ┌───┐ ░ ├───┤├───┤ │ ├───┤├───┤ ░ ┌───┐  │  »\n",
      "    q_2: ──────░─┤ H ├┤ X ├──■──┤ X ├─░─┤ H ├┤ X ├─■─┤ X ├┤ H ├─░─┤ X ├──■──»\n",
      "         ┌───┐ ░ ├───┤└───┘┌─┴─┐└───┘ ░ ├───┤└───┘   └───┘└───┘ ░ └───┘┌─┴─┐»\n",
      "ancilla: ┤ X ├─░─┤ H ├─────┤ X ├──────░─┤ H ├───────────────────░──────┤ X ├»\n",
      "         └───┘ ░ └───┘     └───┘      ░ └───┘                   ░      └───┘»\n",
      "    c: 3/═══════════════════════════════════════════════════════════════════»\n",
      "                                                                            »\n",
      "«         ┌───┐ ░ ┌───┐┌───┐   ┌───┐┌───┐ ░ ┌─┐      \n",
      "«    q_0: ┤ X ├─░─┤ H ├┤ X ├─■─┤ X ├┤ H ├─░─┤M├──────\n",
      "«         └───┘ ░ ├───┤├───┤ │ ├───┤├───┤ ░ └╥┘┌─┐   \n",
      "«    q_1: ──────░─┤ H ├┤ X ├─■─┤ X ├┤ H ├─░──╫─┤M├───\n",
      "«         ┌───┐ ░ ├───┤├───┤ │ ├───┤├───┤ ░  ║ └╥┘┌─┐\n",
      "«    q_2: ┤ X ├─░─┤ H ├┤ X ├─■─┤ X ├┤ H ├─░──╫──╫─┤M├\n",
      "«         └───┘ ░ ├───┤└───┘   └───┘└───┘ ░  ║  ║ └╥┘\n",
      "«ancilla: ──────░─┤ H ├───────────────────░──╫──╫──╫─\n",
      "«               ░ └───┘                   ░  ║  ║  ║ \n",
      "«    c: 3/═══════════════════════════════════╩══╩══╩═\n",
      "«                                            0  1  2 \n"
     ]
    }
   ],
   "source": [
    "print(qc)"
   ]
  },
  {
   "cell_type": "code",
   "execution_count": 212,
   "id": "ae7c2921-73e2-4772-ba29-64d336841d97",
   "metadata": {},
   "outputs": [
    {
     "name": "stdout",
     "output_type": "stream",
     "text": [
      "Counts: {'110': 78, '100': 74, '001': 61, '011': 63, '111': 77, '101': 66, '000': 71, '010': 534}\n"
     ]
    },
    {
     "data": {
      "image/png": "[encoded data removed]",
      "text/plain": [
       "<Figure size 700x500 with 1 Axes>"
      ]
     },
     "execution_count": 212,
     "metadata": {},
     "output_type": "execute_result"
    }
   ],
   "source": [
    "# Simulate the circuit\n",
    "simulator = Aer.get_backend('qasm_simulator')\n",
    "job = execute(qc, simulator, shots=1024)\n",
    "result = job.result()\n",
    "counts = result.get_counts(qc)\n",
    "\n",
    "# Plot the result\n",
    "print(\"Counts:\", counts)\n",
    "plot_histogram(counts)"
   ]
  }
 ],
 "metadata": {
  "kernelspec": {
   "display_name": "Python 3 (ipykernel)",
   "language": "python",
   "name": "python3"
  },
  "language_info": {
   "codemirror_mode": {
    "name": "ipython",
    "version": 3
   },
   "file_extension": ".py",
   "mimetype": "text/x-python",
   "name": "python",
   "nbconvert_exporter": "python",
   "pygments_lexer": "ipython3",
   "version": "3.11.7"
  }
 },
 "nbformat": 4,
 "nbformat_minor": 5
}
