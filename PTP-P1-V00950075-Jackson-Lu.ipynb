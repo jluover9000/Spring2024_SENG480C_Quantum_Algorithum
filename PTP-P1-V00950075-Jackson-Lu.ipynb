{
 "cells": [
  {
   "cell_type": "markdown",
   "id": "34bb592f-2372-45dc-8c56-bd5ce5a314d2",
   "metadata": {},
   "source": [
    "**How did you get up to speed in basic linear algebra (e.g., Euler formula, linear transformations or operators, eigenvectors and eigenvalues), including which resources you consulted in this process?**"
   ]
  },
  {
   "cell_type": "markdown",
   "id": "56633485-4c93-466d-aac9-9eb09cc37abd",
   "metadata": {},
   "source": [
    "I got up to speed in basic linear algebra by doing simple practice questions like 2x2 matrices addition, subtraction, multiplication, and tensor product. I've used Google a lot, which includes Wikipedia and ChatGPT. However, ChatGPT is not always reliable, as quite often I found errors in its calculations. Nevertheless, It is faster than searching on Google when seeking for definitions and formulas. "
   ]
  },
  {
   "cell_type": "markdown",
   "id": "530cd1d2-237b-4907-9042-16b88c65d1fd",
   "metadata": {},
   "source": [
    "**What are your personal insights, aha moments, and epiphanies you experienced in the first part of this course?**"
   ]
  },
  {
   "cell_type": "markdown",
   "id": "c45b6873-3000-42c0-9e23-33c8ab1f08d4",
   "metadata": {},
   "source": [
    "My personal insights are watch the lecture videos and work on the lecture slides problems and go through them line by line until i fully understand them. My aha moments were very trivial but at the time I just couldn't figure out. For example, I thought $$\n",
    "|0\\rangle + |1\\rangle = \\begin{bmatrix} 1 \\\\ 0 \\end{bmatrix} + \\begin{bmatrix} 0 \\\\ 1 \\end{bmatrix} = \\begin{bmatrix} 1 & 0 \\\\ 0 & 1 \\end{bmatrix}\n",
    "$$\n",
    "Ket zero plus Ket one can be writen as 2x2 matrix but this is wrong and it took me awhile to figure this out and when i did it really made my learning a whole lot easier. In actuality $$\n",
    "|0\\rangle + |1\\rangle = \\begin{bmatrix} 1 \\\\ 0 \\end{bmatrix} + \\begin{bmatrix} 0 \\\\ 1 \\end{bmatrix} = \\begin{bmatrix} 1 \\\\ 1 \\end{bmatrix}\n",
    "$$"
   ]
  },
  {
   "cell_type": "markdown",
   "id": "b74946f5-465e-4470-9780-18fe74808917",
   "metadata": {},
   "source": [
    "**How did you experience Generative AI as a learning tool**"
   ]
  },
  {
   "cell_type": "markdown",
   "id": "06506f77-dcee-4b4f-bd65-e8b5fe1a50b9",
   "metadata": {},
   "source": [
    "It really did improve my quality of life. It speeds up my search process and gives me a decent answer as long as the input is well rounded. However like what i said earlier I need to double check AI's return prompt because it is horrible at doing tensor product as an example. "
   ]
  },
  {
   "cell_type": "markdown",
   "id": "8a1cf7f3-216b-481d-8939-ab1f62e5bc23",
   "metadata": {},
   "source": [
    "**All the Greek letters that will be used.**"
   ]
  },
  {
   "cell_type": "markdown",
   "id": "9900849c-0d1c-4fd0-a5c0-3d83acb328de",
   "metadata": {},
   "source": [
    "- **Alpha:** &alpha;\n",
    "- **Beta:** &beta;\n",
    "- **Gamma:** &gamma;\n",
    "- **Delta:** &delta;\n",
    "- **Theta:** &theta;\n",
    "- **Pi:** &pi;\n",
    "- **Phi:** &phi;\n",
    "- **Psi:** &psi;"
   ]
  },
  {
   "cell_type": "markdown",
   "id": "39b66fd6-af82-4fb3-b27e-5a2af3408100",
   "metadata": {},
   "source": [
    "### Quantum Gates and Their Effects"
   ]
  },
  {
   "cell_type": "markdown",
   "id": "e64deb1c-5d6e-48fa-9df8-7a8b00ad21fe",
   "metadata": {},
   "source": [
    "#### Pauli Gates\n",
    "\n",
    "- **Pauli-X Gate:**\n",
    "  $$ X = \\begin{bmatrix} 0 & 1 \\\\ 1 & 0 \\end{bmatrix} $$\n",
    "  - Effect on states:\n",
    "    - |0⟩: $X|0⟩ = |1⟩$\n",
    "    - |1⟩: $X|1⟩ = |0⟩$\n",
    "    - |ψ⟩: $X|ψ⟩ = \\begin{bmatrix} 0 & 1 \\\\ 1 & 0 \\end{bmatrix} \\begin{bmatrix} a \\\\ b \\end{bmatrix} = \\begin{bmatrix} b \\\\ a \\end{bmatrix}$\n",
    "\n",
    "- **Pauli-Y Gate:**\n",
    "  $$ Y = \\begin{bmatrix} 0 & -i \\\\ i & 0 \\end{bmatrix} $$\n",
    "  - Effect on states:\n",
    "    - |0⟩: $Y|0⟩ = i|1⟩$\n",
    "    - |1⟩: $Y|1⟩ = -i|0⟩$\n",
    "    - |ψ⟩: $Y|ψ⟩ = \\begin{bmatrix} 0 & -i \\\\ i & 0 \\end{bmatrix} \\begin{bmatrix} a \\\\ b \\end{bmatrix} = \\begin{bmatrix} -ib \\\\ ia \\end{bmatrix}$\n",
    "\n",
    "- **Pauli-Z Gate:**\n",
    "  $$ Z = \\begin{bmatrix} 1 & 0 \\\\ 0 & -1 \\end{bmatrix} $$\n",
    "  - Effect on states:\n",
    "    - |0⟩: $Z|0⟩ = |0⟩$\n",
    "    - |1⟩: $Z|1⟩ = -|1⟩$\n",
    "    - |ψ⟩: $Z|ψ⟩ = \\begin{bmatrix} 1 & 0 \\\\ 0 & -1 \\end{bmatrix} \\begin{bmatrix} a \\\\ b \\end{bmatrix} = \\begin{bmatrix} a \\\\ -b \\end{bmatrix}$\n",
    "\n",
    "#### Hadamard Gate\n",
    "\n",
    "- **Hadamard Gate:**\n",
    "  $$ H = \\frac{1}{\\sqrt{2}} \\begin{bmatrix} 1 & 1 \\\\ 1 & -1 \\end{bmatrix} $$\n",
    "  - Effect on states:\n",
    "    - |0⟩: $H|0⟩ = \\frac{1}{\\sqrt{2}}(|0⟩ + |1⟩)$\n",
    "    - |1⟩: $H|1⟩ = \\frac{1}{\\sqrt{2}}(|0⟩ - |1⟩)$\n",
    "    - |ψ⟩: $H|ψ⟩ = \\frac{1}{\\sqrt{2}} \\begin{bmatrix} 1 & 1 \\\\ 1 & -1 \\end{bmatrix} \\begin{bmatrix} a \\\\ b \\end{bmatrix} = \\frac{1}{\\sqrt{2}} \\begin{bmatrix} a + b \\\\ a - b \\end{bmatrix}$\n"
   ]
  },
  {
   "cell_type": "markdown",
   "id": "d9527ae3-ba93-4776-8ee5-86f1fcbebbab",
   "metadata": {},
   "source": [
    "**In Assignment 1, we were tasked with implementing a simple Quantum Key Distribution (QKD) protocol, specifically the BB84 key distribution protocol, using Qiskit.**"
   ]
  },
  {
   "cell_type": "markdown",
   "id": "63be4b4c-29c8-410e-93d9-18f10f9bbe3e",
   "metadata": {},
   "source": [
    "# BB84 Key Distribution Protocol in Qiskit\n",
    "In Part 1 of this assignment, you learnt about a simple quantum key distribution protocol (called BB84, after  C. H. Bennett and G. Brassard) for securely generating random bitstrings which can then be used to encrypt information to securely share it between parties. "
   ]
  },
  {
   "cell_type": "code",
   "execution_count": 1,
   "id": "39cf8a1e-cc00-41d7-a850-d5398ef42374",
   "metadata": {},
   "outputs": [],
   "source": [
    "from qiskit import QuantumCircuit, Aer\n",
    "from qiskit.quantum_info import Statevector\n",
    "from qiskit.primitives import Sampler\n",
    "from qiskit.visualization import plot_histogram\n",
    "import random"
   ]
  },
  {
   "cell_type": "code",
   "execution_count": 2,
   "id": "da89175e-f3e9-4f1c-8c2b-775a83c76084",
   "metadata": {},
   "outputs": [],
   "source": [
    "#Returns a random bit (0 or 1) with equal probability.\n",
    "def RandomBit():\n",
    "    random_int = random.choice([0,1])\n",
    "    return random_int"
   ]
  },
  {
   "cell_type": "markdown",
   "id": "0f9dc2de-3c31-4361-9b94-e2b2e794e845",
   "metadata": {},
   "source": [
    "This operation prepares each of the qubits in the input array in one of the $|0\\rangle, |1\\rangle, |+\\rangle \\text{ or } |-\\rangle$. states randomly."
   ]
  },
  {
   "cell_type": "code",
   "execution_count": 3,
   "id": "f5d9c85f-c76d-4008-9bc4-940528ab5754",
   "metadata": {},
   "outputs": [],
   "source": [
    "#Alice encodes a random bitstring\n",
    "def alice_encoding(n):\n",
    "    quantumCircuits = []\n",
    "    randomBits = []\n",
    "    randomBases = []\n",
    "    for num in range(n):\n",
    "        randomBits.append(RandomBit())\n",
    "        randomBases.append(RandomBit())\n",
    "\n",
    "    for num in range(n):\n",
    "        qc = QuantumCircuit(1,1)\n",
    "        if randomBits[num] != 0:\n",
    "            qc.x(0)\n",
    "        if randomBases[num] != 0:\n",
    "            qc.h(0)\n",
    "        quantumCircuits.append(qc)\n",
    "    return quantumCircuits, randomBits, randomBases"
   ]
  },
  {
   "cell_type": "markdown",
   "id": "1b46bab9-b01c-410a-b78b-21b1bdce656b",
   "metadata": {},
   "source": [
    "Measures each qubit in a randomly chosen basis, X or Z, and returns the chosen bases and the measurement results."
   ]
  },
  {
   "cell_type": "code",
   "execution_count": 4,
   "id": "6e4a1ad8-270b-4bf5-b296-3dbfa6b9e0a7",
   "metadata": {},
   "outputs": [],
   "source": [
    "#Bob measures the circuits in the encoded message in some random bases (Z or X)\n",
    "def bob_decoding(encoded_message):\n",
    "    measured_bases = []\n",
    "    decoded_message = []\n",
    "\n",
    "    for qubit in range(len(encoded_message)):\n",
    "        random_basis = RandomBit()\n",
    "        measured_bases.append(random_basis)\n",
    "        qc = encoded_message[qubit]\n",
    "        if random_basis != 0:\n",
    "            qc.h(0)\n",
    "        qc.measure(0,0)\n",
    "        #run on sim\n",
    "        sampler = Sampler()\n",
    "        sampler.set_options(shots=1024)\n",
    "        results = sampler.run(qc).result()\n",
    "        decoded_message.append(results.quasi_dists[0])\n",
    "        \n",
    "    return measured_bases, decoded_message"
   ]
  },
  {
   "cell_type": "markdown",
   "id": "ad812aae-7c56-41e2-bf1a-aa202be541b8",
   "metadata": {},
   "source": [
    "This operation acts as the intermediary exchanging both classical and quantum information between parties.\n",
    "$N$ controls the number of qubits transmitted, so our final key will be of length less than or equal to $N$."
   ]
  },
  {
   "cell_type": "code",
   "execution_count": 5,
   "id": "de3c161c-25fd-481e-b10c-e69abb81d79c",
   "metadata": {},
   "outputs": [],
   "source": [
    "#Putting it all together\n",
    "def bb84_protocol(n):\n",
    "    alice_qc, alice_randomBits, alice_randomBases = alice_encoding(n)\n",
    "    bob_measured_bases, bob_decoded_message = bob_decoding(alice_qc)\n",
    "    alice_key = []\n",
    "    bob_key = []\n",
    "    for index in range(n):\n",
    "        if alice_randomBases[index] == bob_measured_bases[index]:\n",
    "            alice_key.append(alice_randomBases[index])\n",
    "        if len(bob_decoded_message[index]) == 1:\n",
    "            bob_key.append(list(bob_decoded_message[index].keys())[0])\n",
    "            bob_decoded_message[index] = list(bob_decoded_message[index].keys())[0]\n",
    "\n",
    "    return alice_randomBases, bob_measured_bases, alice_randomBits, bob_decoded_message, alice_key, bob_key   "
   ]
  },
  {
   "cell_type": "markdown",
   "id": "72cf24bd-f0ba-42e7-a0e9-dc7dfcc3d1c2",
   "metadata": {},
   "source": [
    "**Check your work**"
   ]
  },
  {
   "cell_type": "code",
   "execution_count": 6,
   "id": "88276170-795d-4c12-8b6f-dfa1adc6ead4",
   "metadata": {},
   "outputs": [
    {
     "name": "stdout",
     "output_type": "stream",
     "text": [
      "Let's compare this to the selected bases, and the transmitted qubit states\n",
      "Alice's bases were:       | X | X | X | X | X | X | X | Z | X | Z |\n",
      "Bob's bases were:         | Z | X | Z | Z | Z | Z | X | X | X | X |\n",
      "Both bases match (yes/no):| n | y | n | n | n | n | y | n | y | n |\n",
      "Alice's encoded bit:      | 1 | 0 | 1 | 0 | 0 | 0 | 1 | 0 | 1 | 0 |\n",
      "The states sent were:     ||->||+>||->||+>||+>||+>||->||0>||->||0>|\n",
      "Bob measured:             | 0 | 0 | 0 | 0 | 0 | 0 | 1 | 0 | 1 | 0 |\n",
      "Notice how the key is formed by the bits where bases are equal\n",
      "Bob's key:                |   | 0 |   |   |   |   | 1 |   | 1 |   |\n",
      "Alice's key:              |   | 0 |   |   |   |   | 1 |   | 1 |   |\n",
      "The key that was generated was [0, 1, 1]\n",
      "\n"
     ]
    }
   ],
   "source": [
    "def formatOutput(basesS, basesR, bitS, bitR, key1, key2):\n",
    "    keyCopy = key2.copy()\n",
    "    same = \"|\" \n",
    "    basisSentChar = \"|\"\n",
    "    basisRecChar = \"|\"\n",
    "    bitSent = \"|\"\n",
    "    bitRec = \"|\"\n",
    "    keyS = \"|\"\n",
    "    keyR = \"|\"\n",
    "    stateSent = \"|\"\n",
    "    for i in range(len(basesR)):\n",
    "        bitSent += ' 1 |' if bitS[i] == 1 else ' 0 |'\n",
    "        bitRec += ' 1 |' if bitR[i] == 1 else ' 0 |'\n",
    "        same += ' y |' if basesR[i] == basesS[i] else ' n |'\n",
    "        keyS += ' {} |'.format(bitS[i]) if basesR[i] == basesS[i] else \"   |\"\n",
    "        keyR += ' {} |'.format(key2.pop(0)) if basesR[i] == basesS[i] else \"   |\"\n",
    "        basisRecChar += ' Z |' if basesR[i] == 0 else ' X |'\n",
    "        if basesS[i] == 0:\n",
    "            stateSent += \"|0>|\" if bitS[i] == 0 else \"|1>|\"\n",
    "            basisSentChar += \" Z |\"\n",
    "        else:\n",
    "            stateSent += \"|+>|\" if bitS[i] == 0 else \"|->|\"\n",
    "            basisSentChar += \" X |\"\n",
    "\n",
    "    print(\"Let's compare this to the selected bases, and the transmitted qubit states\")\n",
    "    print(\"Alice's bases were:       {}\".format(basisSentChar))\n",
    "    print(\"Bob's bases were:         {}\".format(basisRecChar))\n",
    "    print(\"Both bases match (yes/no):{}\".format(same))\n",
    "    print(\"Alice's encoded bit:      {}\".format(bitSent))\n",
    "    print(\"The states sent were:     {}\".format(stateSent))\n",
    "    print(\"Bob measured:             {}\".format(bitRec))\n",
    "    print(\"Notice how the key is formed by the bits where bases are equal\")\n",
    "    print(\"Bob's key:                {}\".format(keyR))\n",
    "    print(\"Alice's key:              {}\".format(keyS))\n",
    "    print(\"The key that was generated was {}\\n\".format(keyCopy))\n",
    "(basesS, basesR, bitS, bitR, alice_key, bob_key) = bb84_protocol(10)\n",
    "formatOutput(basesS, basesR, bitS, bitR, alice_key, bob_key)"
   ]
  },
  {
   "cell_type": "markdown",
   "id": "3909263c",
   "metadata": {},
   "source": [
    "**In your own words, describe the Quantum Fourier Transform (QFT) algorithm. How is QFT used in quantum computing.**"
   ]
  },
  {
   "cell_type": "markdown",
   "id": "a2f96686",
   "metadata": {},
   "source": [
    "QFT is an exponential advantage over classical computational methods. The classical fast Fourier transform (FFT) algorithm requires $O(n*2^n)$ computational steps [1]. The QFT, invented by Peter Shor, can be achieve $O(2^n)$ on a quantum computer. "
   ]
  },
  {
   "cell_type": "markdown",
   "id": "cec272d1",
   "metadata": {},
   "source": [
    "Below is the quantum circuit of QFT:"
   ]
  },
  {
   "cell_type": "markdown",
   "id": "9daf6430",
   "metadata": {},
   "source": [
    "![QFT](QFT.jpg)"
   ]
  },
  {
   "cell_type": "markdown",
   "id": "d655b014",
   "metadata": {},
   "source": [
    "However currently there are only a limit amount of classical problems it can solve efficiently compared to a classical computer. To use effectivly use this quantum advantage we must solve the accuracy of of preparing the input state of a quantum register in an arbitrary state [2]. We must also solve measuring the output accuracy as well. "
   ]
  },
  {
   "cell_type": "markdown",
   "id": "3a208678",
   "metadata": {},
   "source": [
    "**In your own words, describe the Quantum Phase Estimation (QPE) algorithm. How is QPE used in quantum computing.**"
   ]
  },
  {
   "cell_type": "markdown",
   "id": "5c4340c0",
   "metadata": {},
   "source": [
    "According to Pennylane, QPE is the most important tools in quantum coputing [3]. It finds eigenvalue of a giving eigenstate of a unitary operator. The goal of QPE is to estimate &phi; in $$U|ψ⟩  = e^{iφ}|ψ⟩$$ "
   ]
  },
  {
   "cell_type": "markdown",
   "id": "7b751213",
   "metadata": {},
   "source": [
    "The QPE algorithm works like below [4]:"
   ]
  },
  {
   "cell_type": "markdown",
   "id": "3b491b56",
   "metadata": {},
   "source": [
    "1. Start with the state $|ψ⟩|0⟩$. Apply a Hadamard gate to all estimation qubits to implement the transformation\n",
    "$$|ψ⟩|0⟩→|ψ⟩\\frac{1}{\\sqrt{2^n}}∑_{k=0} |k⟩.$$"
   ]
  },
  {
   "cell_type": "markdown",
   "id": "f250f89a",
   "metadata": {},
   "source": [
    "2. Apply a ControlledSequence operation, i.e.,  $U^{2m}$\n",
    "  controlled on the $m$-th estimation qubit. This gives $$|ψ⟩\\frac{1}{\\sqrt{2^n}}∑_{k=0}|k⟩→|ψ⟩\\frac{1}{\\sqrt{2^n}}∑_{k=0} e^{2πiθk}|k⟩.$$\n"
   ]
  },
  {
   "cell_type": "markdown",
   "metadata": {},
   "source": [
    "3. Apply the inverse quantum Fourier transform to the estimation qubits. This gives\n",
    "$$|ψ⟩\\frac{1}{\\sqrt{2^n}}∑_{k=0} e^{2πiθk}|k⟩→|ψ⟩|θ⟩$$"
   ]
  },
  {
   "cell_type": "markdown",
   "id": "2e411122",
   "metadata": {},
   "source": [
    "4. Measure the estimation qubits to recover $θ$"
   ]
  },
  {
   "cell_type": "markdown",
   "id": "8794a2b3",
   "metadata": {},
   "source": [
    "![QPE](qpe.png)"
   ]
  },
  {
   "cell_type": "markdown",
   "id": "254fc20d",
   "metadata": {},
   "source": [
    "**For you, what was the most challenging part of undertanding Grover's algorithm and why?**"
   ]
  },
  {
   "cell_type": "markdown",
   "id": "3ef8a0b1",
   "metadata": {},
   "source": [
    "The most challenging part of understanding Grover's algorithm was first understanding the phase kickback phenonmenon. Second was how the oracle works. Do you use phase orcale or boolean orcale. Third, how many times to repeat diffusion operator. "
   ]
  },
  {
   "cell_type": "markdown",
   "id": "4a4cb18d",
   "metadata": {},
   "source": [
    "**Which is your favourite quantum algorithm and why?**"
   ]
  },
  {
   "cell_type": "markdown",
   "id": "f3f75a3e",
   "metadata": {},
   "source": [
    "My favourite is Grover's algorithm because it speeds up the unstructured search from $O(n)$ to $O(\\sqrt{n})$. It is also very simple to implement. "
   ]
  },
  {
   "cell_type": "markdown",
   "id": "7f07ac82",
   "metadata": {},
   "source": [
    "# Pseudo Code:\n",
    "- Input: N: number of items in the list, oracle(x): a function that returns true if x is the target item, and false otherwise [5]\n",
    "\n",
    "- **Step 1**: Initialize state\n",
    "\n",
    "- - Hadamard transform on all qubits\n",
    "- **Step 2**: Iterate over Grover’s algorithm\n",
    "\n",
    "- for k = 1 to sqrt(N) do\n",
    "    - - **Step 2a**: Apply the oracle\n",
    "\n",
    "- Apply the oracle to the state\n",
    "    - - **Step 2b**: Apply the diffusion operator\n",
    "\n",
    "- Hadamard transform on all qubits\n",
    "- Apply an X gate on all qubits\n",
    "- Apply a multi-controlled Z gate (which flips the sign of the state only if all qubits are in the state |1⟩)\n",
    "- Apply an X gate on all qubits\n",
    "- Hadamard transform on all qubits\n",
    "\n",
    "\n",
    "- **Step 3**: Measure the state and output the result\n",
    "\n",
    "- Measure the state and output the result"
   ]
  },
  {
   "cell_type": "markdown",
   "id": "90bf5838",
   "metadata": {},
   "source": [
    "Grover's algorithm can be used in finding patterns in data and solve optimization problems. This importance will grow as quantum computers become more and more powerful."
   ]
  },
  {
   "cell_type": "markdown",
   "id": "f5f71a97",
   "metadata": {},
   "source": [
    "**What is the role of eigenvalues and eigenstates (eigenvectors) in quantum computing?**"
   ]
  },
  {
   "cell_type": "markdown",
   "id": "71ca093c",
   "metadata": {},
   "source": [
    "The role of eigenvalues and eigenvectors are an abstract mathematical concept to model real world entites [6].  "
   ]
  },
  {
   "cell_type": "markdown",
   "id": "2ca3035e",
   "metadata": {},
   "source": []
  },
  {
   "cell_type": "markdown",
   "id": "e2d1abe9",
   "metadata": {},
   "source": [
    "Reference:"
   ]
  },
  {
   "cell_type": "markdown",
   "id": "f76942a4",
   "metadata": {},
   "source": [
    "[1] [2] https://www.sciencedirect.com/topics/chemistry/quantum-field-theory\n",
    "\n",
    "[3] [4] https://pennylane.ai/qml/demos/tutorial_qpe/\n",
    "\n",
    "[5] https://www.geeksforgeeks.org/introduction-to-grovers-algorithm/\n",
    "\n",
    "[6] https://medium.com/quantum-untangled/eigenvectors-and-eigenvalues-linear-algebra-for-qc-afb0970c6488"
   ]
  }
 ],
 "metadata": {
  "kernelspec": {
   "display_name": "Python 3 (ipykernel)",
   "language": "python",
   "name": "python3"
  },
  "language_info": {
   "codemirror_mode": {
    "name": "ipython",
    "version": 3
   },
   "file_extension": ".py",
   "mimetype": "text/x-python",
   "name": "python",
   "nbconvert_exporter": "python",
   "pygments_lexer": "ipython3",
   "version": "3.11.7"
  }
 },
 "nbformat": 4,
 "nbformat_minor": 5
}
