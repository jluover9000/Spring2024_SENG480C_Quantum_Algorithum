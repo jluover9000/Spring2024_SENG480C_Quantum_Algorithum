{
 "cells": [
  {
   "cell_type": "code",
   "execution_count": 10,
   "id": "4d7765f1-9510-4a10-b5aa-dc08c6fadf9f",
   "metadata": {},
   "outputs": [],
   "source": [
    "import pennylane as qml"
   ]
  },
  {
   "cell_type": "code",
   "execution_count": 13,
   "id": "ff6d2524-ee7b-48a7-addf-228fe14d6201",
   "metadata": {},
   "outputs": [],
   "source": [
    "dev_unique_wires = qml.device('default.qubit', wires=['A', 'B'])\n",
    "@qml.qnode(dev_unique_wires)\n",
    "def superDenseCoding(cbit1, cbit2):\n",
    "    qml.Hadamard(wires='A')\n",
    "    qml.CNOT(wires=['A','B'])\n",
    "    if cbit1 != 0:\n",
    "        qml.PauliZ(wires='A')\n",
    "    if cbit2 != 0:\n",
    "        qml.PauliX(wires='A') \n",
    "    qml.CNOT(wires=['A','B'])\n",
    "    qml.Hadamard(wires='A')\n",
    "    return qml.probs(wires=['A','B'])"
   ]
  },
  {
   "cell_type": "code",
   "execution_count": 16,
   "id": "942b9cef-c717-40ff-a1dd-d0e7598b060e",
   "metadata": {},
   "outputs": [
    {
     "data": {
      "text/plain": [
       "tensor([0., 0., 0., 1.], requires_grad=True)"
      ]
     },
     "execution_count": 16,
     "metadata": {},
     "output_type": "execute_result"
    }
   ],
   "source": [
    "c = 1\n",
    "d = 1\n",
    "qnode = qml.QNode(superDenseCoding, dev_unique_wires)\n",
    "qnode(c, d)\n"
   ]
  }
 ],
 "metadata": {
  "kernelspec": {
   "display_name": "Python 3 (ipykernel)",
   "language": "python",
   "name": "python3"
  },
  "language_info": {
   "codemirror_mode": {
    "name": "ipython",
    "version": 3
   },
   "file_extension": ".py",
   "mimetype": "text/x-python",
   "name": "python",
   "nbconvert_exporter": "python",
   "pygments_lexer": "ipython3",
   "version": "3.11.7"
  }
 },
 "nbformat": 4,
 "nbformat_minor": 5
}
