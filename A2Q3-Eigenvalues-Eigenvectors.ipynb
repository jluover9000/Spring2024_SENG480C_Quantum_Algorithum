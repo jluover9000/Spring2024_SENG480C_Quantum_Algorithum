{
 "cells": [
  {
   "cell_type": "code",
   "execution_count": 1,
   "metadata": {},
   "outputs": [],
   "source": [
    "#import numpy\n",
    "import numpy as np\n",
    "import matplotlib.pyplot as plt"
   ]
  },
  {
   "cell_type": "code",
   "execution_count": 2,
   "metadata": {},
   "outputs": [
    {
     "name": "stdout",
     "output_type": "stream",
     "text": [
      "Eigenvalues of Cx gate:  [ 1. -1.  1.  1.]\n",
      "Eigenvectors of Cx gate:  [[ 0.          0.          1.          0.        ]\n",
      " [ 0.          0.          0.          1.        ]\n",
      " [ 0.70710678 -0.70710678  0.          0.        ]\n",
      " [ 0.70710678  0.70710678  0.          0.        ]]\n"
     ]
    }
   ],
   "source": [
    "#Eigenvalues and Eigenvectors\n",
    "# Cx gate or CNOT gate\n",
    "cx = np.array([[1, 0, 0, 0], [0, 1, 0, 0], [0, 0, 0, 1], [0, 0, 1, 0]])\n",
    "#eigenvalues and eigenvectors\n",
    "eigenvalues, eigenvectors = np.linalg.eig(cx)\n",
    "print(\"Eigenvalues of Cx gate: \", eigenvalues)\n",
    "print(\"Eigenvectors of Cx gate: \", eigenvectors)"
   ]
  },
  {
   "cell_type": "code",
   "execution_count": 3,
   "metadata": {},
   "outputs": [
    {
     "name": "stdout",
     "output_type": "stream",
     "text": [
      "Eigenvalues of Hadamard gate:  [ 1. -1.]\n",
      "Eigenvectors of Hadamard gate:  [[ 0.92387953 -0.38268343]\n",
      " [ 0.38268343  0.92387953]]\n"
     ]
    }
   ],
   "source": [
    "#Hadamard gate\n",
    "h = (1/np.sqrt(2))*np.array([[1, 1], [1, -1]])\n",
    "#eigenvalues and eigenvectors\n",
    "eigenvalues, eigenvectors = np.linalg.eig(h)\n",
    "print(\"Eigenvalues of Hadamard gate: \", eigenvalues)\n",
    "print(\"Eigenvectors of Hadamard gate: \", eigenvectors)"
   ]
  },
  {
   "cell_type": "code",
   "execution_count": 4,
   "metadata": {},
   "outputs": [
    {
     "name": "stdout",
     "output_type": "stream",
     "text": [
      "Eigenvalues of S gate:  [1.000000e+00+0.j 6.123234e-17+1.j]\n",
      "Eigenvectors of S gate:  [[1.+0.j 0.+0.j]\n",
      " [0.+0.j 1.+0.j]]\n"
     ]
    }
   ],
   "source": [
    "#S gate\n",
    "# e^(i*pi/2)\n",
    "s = np.array([[1, 0], [0, np.exp(1j * np.pi / 2)]])\n",
    "#eigenvalues and eigenvectors\n",
    "eigenvalues, eigenvectors = np.linalg.eig(s)\n",
    "print(\"Eigenvalues of S gate: \", eigenvalues)\n",
    "print(\"Eigenvectors of S gate: \", eigenvectors)"
   ]
  }
 ],
 "metadata": {
  "kernelspec": {
   "display_name": "Python 3 (ipykernel)",
   "language": "python",
   "name": "python3"
  }
 },
 "nbformat": 4,
 "nbformat_minor": 2
}
