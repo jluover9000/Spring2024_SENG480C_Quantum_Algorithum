{
 "cells": [
  {
   "cell_type": "markdown",
   "id": "c7708314-a22b-425d-ac02-116b6a622a2e",
   "metadata": {},
   "source": [
    "Question 1. <br>\n",
    "Initialize a circuit with two qubits <br>\n",
    "Apply the Hadamard gate to the first qubit <br>\n",
    "Apply the CNOT gate to the second qubit (controlled by the first qubit)"
   ]
  },
  {
   "cell_type": "markdown",
   "id": "abc9afe2-4cfb-4143-8b21-338ebf694728",
   "metadata": {},
   "source": [
    "![alt text](composer.svg \"Composer\")"
   ]
  },
  {
   "cell_type": "markdown",
   "id": "012b9064-4747-4b2e-bcda-4fdda6102fc0",
   "metadata": {},
   "source": [
    "What is the state vector when the circuit is initialized with |00⟩, |01⟩, |10⟩, and |11⟩?"
   ]
  },
  {
   "cell_type": "markdown",
   "id": "b9b17ed7-11aa-48f3-bbf6-2a44e145da2f",
   "metadata": {},
   "source": [
    "|00⟩ :"
   ]
  },
  {
   "cell_type": "markdown",
   "id": "04fb7871-3b78-4cf5-9db1-da51d5eaab7c",
   "metadata": {},
   "source": [
    "![alt text](7bf632b514c1f7b23a31b34f553d838b509e6b33e94b882cffe39c753c2a76e8_statevector.svg \"State vector for 00\")"
   ]
  },
  {
   "cell_type": "markdown",
   "id": "c980ffe1-5116-4b54-889c-94200396050a",
   "metadata": {},
   "source": [
    "The probability is ~50% 00 and ~50% 11"
   ]
  },
  {
   "cell_type": "markdown",
   "id": "f32545e0-b3b7-4b98-be4e-599899fd0874",
   "metadata": {},
   "source": [
    "|01⟩ :"
   ]
  },
  {
   "cell_type": "markdown",
   "id": "6431ab1f-a54e-4844-b8f9-a99c86681582",
   "metadata": {},
   "source": [
    "![alt text](7bf632b514c1f7b23a31b34f553d838b509e6b33e94b882cffe39c753c2a76e8_statevector-2.svg \"State vector for 01\")"
   ]
  },
  {
   "cell_type": "markdown",
   "id": "5b56373d-d559-47c1-864d-2e2c6c7aad9a",
   "metadata": {},
   "source": [
    "The probability is ~50% 01 and ~50% 10"
   ]
  },
  {
   "cell_type": "markdown",
   "id": "05d22433-1e7f-4c6e-9fb5-f82fda2a6cc6",
   "metadata": {},
   "source": [
    "|10⟩ :"
   ]
  },
  {
   "cell_type": "markdown",
   "id": "c288445c-a5e5-4c41-88d3-da2867fc03f4",
   "metadata": {},
   "source": [
    "![alt text](7bf632b514c1f7b23a31b34f553d838b509e6b33e94b882cffe39c753c2a76e8_statevector-3.svg \"State vector for 10\")"
   ]
  },
  {
   "cell_type": "markdown",
   "id": "0faccdb5-25f0-4c87-a833-73adb72eabc2",
   "metadata": {},
   "source": [
    "The probability is ~50% 00 and ~50% 11"
   ]
  },
  {
   "cell_type": "markdown",
   "id": "1dc3ad7e-6201-4793-bf0c-17cd2b4a7743",
   "metadata": {},
   "source": [
    "|11⟩ :"
   ]
  },
  {
   "cell_type": "markdown",
   "id": "f71a00b1-e4d4-4dcb-8682-cb4851acb5c9",
   "metadata": {},
   "source": [
    "![alt text](7bf632b514c1f7b23a31b34f553d838b509e6b33e94b882cffe39c753c2a76e8_statevector-4.svg \"State vector for 11\")"
   ]
  },
  {
   "cell_type": "markdown",
   "id": "a9789b14-61e0-498a-acfc-0181ab791f78",
   "metadata": {},
   "source": [
    "The probability is ~50% 01 and ~50% 10"
   ]
  },
  {
   "cell_type": "markdown",
   "id": "65e6d862-f644-4c02-b65c-c82b8db552d2",
   "metadata": {},
   "source": [
    "P2) Use barriers (i.e., visual comments) to delineate different circuit parts for a two-qubit circuit with the following sequence of gates:\n",
    "<br> Apply Hadamard gates to both qubits <br> Create a barrier <br> Apply the CNOT gate with the first qubit as the control qubit and the second qubit as the target qubit <br> Create a barrier <br> Apply a measurement on both qubits"
   ]
  },
  {
   "cell_type": "markdown",
   "id": "9b365523-fae4-4a85-bffa-10c54b2f214e",
   "metadata": {},
   "source": [
    "![alt text](composer-2.svg \"composer p2\")"
   ]
  },
  {
   "cell_type": "markdown",
   "id": "49becd9d-1126-4664-8c22-7cc9c2970e76",
   "metadata": {},
   "source": [
    "for B1: $$ \\frac{1}{\\sqrt{2}}(|00\\rangle + |10\\rangle)\\ $$\n"
   ]
  },
  {
   "cell_type": "markdown",
   "id": "7262d2cd-c673-43e5-be46-948103b16279",
   "metadata": {},
   "source": [
    "for B2: $$ \\frac{1}{\\sqrt{2}}(|00\\rangle + |11\\rangle) $$\n"
   ]
  },
  {
   "cell_type": "markdown",
   "id": "e0ff29cc-41bb-4156-acd8-1eddb3995130",
   "metadata": {},
   "source": [
    "The Final Statevector:"
   ]
  },
  {
   "cell_type": "markdown",
   "id": "15677bbb-da5c-43e6-9a5c-bac880f977ed",
   "metadata": {},
   "source": [
    "![alt text](statevector.svg \"final statevector\")"
   ]
  },
  {
   "cell_type": "code",
   "execution_count": null,
   "id": "37073d42-2661-412e-b8e3-bbff6dfb50ad",
   "metadata": {},
   "outputs": [],
   "source": []
  }
 ],
 "metadata": {
  "kernelspec": {
   "display_name": "Python 3 (ipykernel)",
   "language": "python",
   "name": "python3"
  },
  "language_info": {
   "codemirror_mode": {
    "name": "ipython",
    "version": 3
   },
   "file_extension": ".py",
   "mimetype": "text/x-python",
   "name": "python",
   "nbconvert_exporter": "python",
   "pygments_lexer": "ipython3",
   "version": "3.11.7"
  }
 },
 "nbformat": 4,
 "nbformat_minor": 5
}
