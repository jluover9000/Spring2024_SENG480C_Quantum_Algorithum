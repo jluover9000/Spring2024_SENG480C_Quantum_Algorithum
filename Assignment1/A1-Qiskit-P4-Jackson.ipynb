{
 "cells": [
  {
   "cell_type": "markdown",
   "id": "f7135f05-66c4-4839-bb82-50cf05152de9",
   "metadata": {},
   "source": [
    "# BB84 Key Distribution Protocol in Qiskit\n",
    "\n",
    "In Part 1 of this assignment, you learnt about a simple quantum key distribution protocol (called BB84, after  C. H. Bennett and G. Brassard) for securely generating random bitstrings which can then be used to encrypt information to securely share it between parties. Implement this protocol in Q# using the template given below. "
   ]
  },
  {
   "cell_type": "code",
   "execution_count": 2,
   "id": "f967b41a-1438-45d9-8a87-5f9749b68764",
   "metadata": {},
   "outputs": [],
   "source": [
    "from qiskit import QuantumCircuit, Aer\n",
    "from qiskit.quantum_info import Statevector\n",
    "from qiskit.primitives import Sampler\n",
    "from qiskit.visualization import plot_histogram\n",
    "import random"
   ]
  },
  {
   "cell_type": "markdown",
   "id": "fb733256-51c4-4e56-9ea8-5b68e3c81815",
   "metadata": {},
   "source": [
    "## Part 1: Warm Up"
   ]
  },
  {
   "cell_type": "markdown",
   "id": "995c0a38-caa4-49f3-a4da-f37c670aa871",
   "metadata": {},
   "source": [
    "### Task 1.1\n",
    "1. Prepare a qubit in the $|1\\rangle$ state\n",
    "2. Create a barrier\n",
    "3. Measure the qubit in the $Z$-basis \n",
    "What is the probability of observing `0`? "
   ]
  },
  {
   "cell_type": "code",
   "execution_count": 76,
   "id": "ab41d6cf-7053-4431-a0ea-50be91547651",
   "metadata": {},
   "outputs": [
    {
     "data": {
      "text/html": [
       "<pre style=\"word-wrap: normal;white-space: pre;background: #fff0;line-height: 1.1;font-family: &quot;Courier New&quot;,Courier,monospace\">     ┌───┐ ░ ┌─┐\n",
       "  q: ┤ X ├─░─┤M├\n",
       "     └───┘ ░ └╥┘\n",
       "c: 1/═════════╩═\n",
       "              0 </pre>"
      ],
      "text/plain": [
       "     ┌───┐ ░ ┌─┐\n",
       "  q: ┤ X ├─░─┤M├\n",
       "     └───┘ ░ └╥┘\n",
       "c: 1/═════════╩═\n",
       "              0 "
      ]
     },
     "execution_count": 76,
     "metadata": {},
     "output_type": "execute_result"
    }
   ],
   "source": [
    "qc = QuantumCircuit(1,1)\n",
    "\n",
    "# ANSWER\n",
    "qc.x(0)\n",
    "qc.barrier(0)\n",
    "qc.measure(0,0)\n",
    "qc.draw()"
   ]
  },
  {
   "cell_type": "code",
   "execution_count": 87,
   "id": "c2e7e6a9-cac3-4c86-81cd-bf2a199e2b3a",
   "metadata": {},
   "outputs": [
    {
     "data": {
      "text/plain": [
       "1"
      ]
     },
     "execution_count": 87,
     "metadata": {},
     "output_type": "execute_result"
    }
   ],
   "source": [
    "# RUN ON A SIMULATOR\n",
    "sampler = Sampler()\n",
    "sampler.set_options(shots=1024)\n",
    "results = sampler.run(qc).result()\n",
    "\n",
    "results\n",
    "#0% observing 0"
   ]
  },
  {
   "cell_type": "markdown",
   "id": "be092a2a-fc28-4928-b29e-86879c07fc10",
   "metadata": {},
   "source": [
    "## Task 1.2\n",
    "1. Prepare a qubit in the $|1\\rangle$ state\n",
    "2. Apply a Hadamard gate\n",
    "3. Measure in the $X$-basis\n",
    "What is the probability of observing 0? Run the experiment for a 1024 shots on any simulator."
   ]
  },
  {
   "cell_type": "code",
   "execution_count": 19,
   "id": "98ed9c05-c041-4e0f-b80a-18ef9f39a6c4",
   "metadata": {},
   "outputs": [
    {
     "data": {
      "text/html": [
       "<pre style=\"word-wrap: normal;white-space: pre;background: #fff0;line-height: 1.1;font-family: &quot;Courier New&quot;,Courier,monospace\">     ┌───┐┌───┐┌─┐\n",
       "  q: ┤ X ├┤ H ├┤M├\n",
       "     └───┘└───┘└╥┘\n",
       "c: 1/═══════════╩═\n",
       "                0 </pre>"
      ],
      "text/plain": [
       "     ┌───┐┌───┐┌─┐\n",
       "  q: ┤ X ├┤ H ├┤M├\n",
       "     └───┘└───┘└╥┘\n",
       "c: 1/═══════════╩═\n",
       "                0 "
      ]
     },
     "execution_count": 19,
     "metadata": {},
     "output_type": "execute_result"
    }
   ],
   "source": [
    "qc = QuantumCircuit(1,1)\n",
    "\n",
    "# ANSWER\n",
    "qc.x(0)\n",
    "qc.h(0)\n",
    "qc.measure(0,0)\n",
    "qc.draw()\n"
   ]
  },
  {
   "cell_type": "code",
   "execution_count": 20,
   "id": "b67e9b1f-b059-4878-b2a0-0c879799deb9",
   "metadata": {},
   "outputs": [
    {
     "data": {
      "text/plain": [
       "SamplerResult(quasi_dists=[{0: 0.4853515625, 1: 0.5146484375}], metadata=[{'shots': 1024}])"
      ]
     },
     "execution_count": 20,
     "metadata": {},
     "output_type": "execute_result"
    }
   ],
   "source": [
    "# RUN ON A SIMULATOR\n",
    "sampler = Sampler()\n",
    "sampler.set_options(shots=1024)\n",
    "results = sampler.run(qc).result()\n",
    "\n",
    "results\n",
    "#48.5% observing 0"
   ]
  },
  {
   "cell_type": "markdown",
   "id": "ac4a3aed-9342-42a9-8c67-dd618212e3bb",
   "metadata": {},
   "source": [
    "### Task 1.3\n",
    "1. Prepare a qubit in the $|+\\rangle$ state\n",
    "2. Measure in the $Z$-basis\n",
    "What is the probability of measuring 0? What is the probability of measuring 1?  "
   ]
  },
  {
   "cell_type": "markdown",
   "id": "f5bfc657-d84b-4d83-b0c7-5699e1ad0d99",
   "metadata": {},
   "source": [
    "##### **Solution**\n"
   ]
  },
  {
   "cell_type": "code",
   "execution_count": 22,
   "id": "dd05757f-c965-4568-ac09-ba81c961a3fd",
   "metadata": {},
   "outputs": [
    {
     "data": {
      "text/plain": [
       "SamplerResult(quasi_dists=[{0: 0.515625, 1: 0.484375}], metadata=[{'shots': 1024}])"
      ]
     },
     "execution_count": 22,
     "metadata": {},
     "output_type": "execute_result"
    }
   ],
   "source": [
    "qc = QuantumCircuit(1,1)\n",
    "\n",
    "# ANSWER\n",
    "qc.h(0)\n",
    "qc.measure(0,0)\n",
    "qc.draw()\n",
    "# RUN ON A SIMULATOR\n",
    "sampler = Sampler()\n",
    "sampler.set_options(shots=1024)\n",
    "results = sampler.run(qc).result()\n",
    "\n",
    "results"
   ]
  },
  {
   "cell_type": "markdown",
   "id": "ca48dd5e-f841-4b9d-acc2-20d0cd795e5f",
   "metadata": {},
   "source": [
    "## Part 2: Protocol Example\n",
    "The protocol makes use of the fact that measuring a qubit can change its state. If Alice sends Bob a qubit, and an eavesdropper (Eve) tries to measure it before Bob does, there is a chance that Eve’s measurement will change the state of the qubit and Bob will not receive the qubit state Alice sent."
   ]
  },
  {
   "cell_type": "markdown",
   "id": "b7b9f432-e319-470e-aada-0d3de6b0bb61",
   "metadata": {},
   "source": [
    "## Task 2.1\n",
    "Alice prepares a qubit in the state $|+\\rangle$ (0 in the $X$-basis), and Bob measures it in the $X$-basis. Write the quantum circuit corresponding to this. What is the probability of measuring `0`?  "
   ]
  },
  {
   "cell_type": "markdown",
   "id": "2b71f049-f392-4d0f-aea7-3d2cd6158f8f",
   "metadata": {},
   "source": [
    "##### Solution"
   ]
  },
  {
   "cell_type": "code",
   "execution_count": 35,
   "id": "bb682d68-e2a9-412a-a14d-f1f6e33a0e00",
   "metadata": {},
   "outputs": [
    {
     "data": {
      "text/html": [
       "<pre style=\"word-wrap: normal;white-space: pre;background: #fff0;line-height: 1.1;font-family: &quot;Courier New&quot;,Courier,monospace\">     ┌───┐     ┌─┐\n",
       "q_0: ┤ H ├──■──┤M├\n",
       "     └───┘┌─┴─┐└╥┘\n",
       "q_1: ─────┤ X ├─╫─\n",
       "          └───┘ ║ \n",
       "c: 1/═══════════╩═\n",
       "                0 </pre>"
      ],
      "text/plain": [
       "     ┌───┐     ┌─┐\n",
       "q_0: ┤ H ├──■──┤M├\n",
       "     └───┘┌─┴─┐└╥┘\n",
       "q_1: ─────┤ X ├─╫─\n",
       "          └───┘ ║ \n",
       "c: 1/═══════════╩═\n",
       "                0 "
      ]
     },
     "execution_count": 35,
     "metadata": {},
     "output_type": "execute_result"
    }
   ],
   "source": [
    "qc = QuantumCircuit(2,1)\n",
    "qc.h(0)\n",
    "qc.cx(0,1)\n",
    "qc.measure(0,0)\n",
    "qc.draw()"
   ]
  },
  {
   "cell_type": "code",
   "execution_count": 33,
   "id": "71f531ab-97f3-48ad-afce-4bb512bf9bcb",
   "metadata": {},
   "outputs": [
    {
     "data": {
      "text/plain": [
       "SamplerResult(quasi_dists=[{0: 0.5009765625, 1: 0.4990234375}], metadata=[{'shots': 1024}])"
      ]
     },
     "execution_count": 33,
     "metadata": {},
     "output_type": "execute_result"
    }
   ],
   "source": [
    "sampler = Sampler()\n",
    "sampler.set_options(shots=1024)\n",
    "results = sampler.run(qc).result()\n",
    "\n",
    "results"
   ]
  },
  {
   "cell_type": "markdown",
   "id": "0bb10985-f29c-4126-875c-36775956f155",
   "metadata": {},
   "source": [
    "If Eve tries to measure this qubit in the $Z$-basis before it reaches Bob, she will change the qubit's state from $|+\\rangle$ to either $|0\\rangle$ or $|1\\rangle$, and Bob is no longer certain to measure `0`. Bob now has a 50% chance of measuring `1`, and if he does, he and Alice will know there is something wrong with their channel.\n",
    "\n",
    "The quantum key distribution protocol involves repeating this process enough times that an eavesdropper has a negligible chance of getting away with this interception. "
   ]
  },
  {
   "cell_type": "markdown",
   "id": "1e3a26c9-8f3c-4e95-9d98-3316966a7a41",
   "metadata": {},
   "source": [
    "## Part 3: BB84 in Qiskit"
   ]
  },
  {
   "cell_type": "markdown",
   "id": "f7107634-ddfe-4eb5-9787-2655e99889a1",
   "metadata": {},
   "source": [
    "### Task 3.1: Random Bits\n",
    "Implement an operation that returns a random bit. This will be used in further operations.\n",
    "\n",
    "**Summary**\n",
    "\n",
    "Returns a random bit (0 or 1) with equal probability.\n",
    "\n",
    "**Output**\n",
    "\n",
    "A random integer in \\{0, 1\\}"
   ]
  },
  {
   "cell_type": "code",
   "execution_count": 47,
   "id": "3a7a3708-83b2-4751-8fbf-e0cb643db6ef",
   "metadata": {},
   "outputs": [
    {
     "data": {
      "text/plain": [
       "0"
      ]
     },
     "execution_count": 47,
     "metadata": {},
     "output_type": "execute_result"
    }
   ],
   "source": [
    "def RandomBit():\n",
    "    random_int = random.choice([0,1])\n",
    "    return random_int\n",
    "\n",
    "RandomBit()"
   ]
  },
  {
   "cell_type": "markdown",
   "id": "032f2df3-2cb2-4365-b48c-1342f30f60f7",
   "metadata": {},
   "source": [
    "### Task 3.2: Alice encodes a random bitstring\n",
    "The first step of this protocol is for Alice to generate random bitstrings and initializing `n` single qubit QuantumCircuits randomly to $|0\\rangle, |1\\rangle, |+\\rangle \\text{ or } |-\\rangle$. \n",
    "\n",
    "Your task is to do the following:\n",
    "1. Create a list of circuits with one qubit each representing Alice's qubits. \n",
    "2. Generate two lists of random integers `bits` and `bases`\n",
    "1. If bits[i] is 0, prepare the qubit in $|0\\rangle$ state. If bits[i] is 1, prepare the qubit in the $|1\\rangle$ state.\n",
    "3. If bases[i] is 0, encode the qubit in the $Z$-basis\n",
    "4. If bases[i] is 1, encode the qubit in the $X$-basis\n",
    "\n",
    "Note that $|0\\rangle$ and $|1\\rangle$ are the basis vectors in the $Z$-basis and $|+\\rangle$ and $|-\\rangle$ are the basis vectors in the $X$-basis. Therefore, we can say that Alice is encoding the random bitstring $S_A$ either in the $Z$-basis ($|0\\rangle$ and $|1\\rangle$) or the $X$-basis ($|+\\rangle$ and $|-\\rangle$).\n",
    "\n",
    "**Summary**\n",
    "\n",
    "This operation prepares each of the qubits in the input array in one of the $|0\\rangle, |1\\rangle, |+\\rangle \\text{ or } |-\\rangle$. states randomly.\n",
    "\n",
    "**Input**\n",
    "*n*: Number of bits to encode\n",
    "\n",
    "**Returns**\n",
    "1. `message`: A list of QuantumCircuits with the prepared qubits\n",
    "2. `bits`: The chosen bits\n",
    "3. `bases`: The chosen bases"
   ]
  },
  {
   "cell_type": "code",
   "execution_count": 169,
   "id": "30a49a98-91ca-4b6d-bf74-b4d9c3c5f381",
   "metadata": {},
   "outputs": [
    {
     "data": {
      "text/plain": [
       "[<qiskit.circuit.quantumcircuit.QuantumCircuit at 0x121344890>,\n",
       " <qiskit.circuit.quantumcircuit.QuantumCircuit at 0x121347210>,\n",
       " <qiskit.circuit.quantumcircuit.QuantumCircuit at 0x121345810>,\n",
       " <qiskit.circuit.quantumcircuit.QuantumCircuit at 0x121344790>,\n",
       " <qiskit.circuit.quantumcircuit.QuantumCircuit at 0x121347090>,\n",
       " <qiskit.circuit.quantumcircuit.QuantumCircuit at 0x121347250>,\n",
       " <qiskit.circuit.quantumcircuit.QuantumCircuit at 0x121347e50>,\n",
       " <qiskit.circuit.quantumcircuit.QuantumCircuit at 0x121311150>,\n",
       " <qiskit.circuit.quantumcircuit.QuantumCircuit at 0x11feaa4d0>,\n",
       " <qiskit.circuit.quantumcircuit.QuantumCircuit at 0x121345f90>]"
      ]
     },
     "execution_count": 169,
     "metadata": {},
     "output_type": "execute_result"
    }
   ],
   "source": [
    "def alice_encoding(n):\n",
    "    quantumCircuits = []\n",
    "    randomBits = []\n",
    "    randomBases = []\n",
    "    for num in range(n):\n",
    "        randomBits.append(RandomBit())\n",
    "        randomBases.append(RandomBit())\n",
    "\n",
    "    for num in range(n):\n",
    "        qc = QuantumCircuit(1,1)\n",
    "        if randomBits[num] != 0:\n",
    "            qc.x(0)\n",
    "        if randomBases[num] != 0:\n",
    "            qc.h(0)\n",
    "        quantumCircuits.append(qc)\n",
    "    return quantumCircuits, randomBits, randomBases"
   ]
  },
  {
   "cell_type": "markdown",
   "id": "1ce91bd4-6d9c-4ef5-937a-20fcc0ac0445",
   "metadata": {},
   "source": [
    "### Task 3.3: Bob measures the circuits in the encoded message in some random bases (Z or X)\n",
    "\n",
    "In the next step of the protocol, Bob receives the encoded message from Alice and randomly selects bases to measure in. \n",
    "\n",
    "**Summary**\n",
    "\n",
    "Measures each qubit in a randomly chosen basis, X or Z, and returns the chosen bases and the measurement results.\n",
    "\n",
    "**Input**\n",
    "`encoded_message`: A list of `QuantumCircuit` objects\n",
    "\n",
    "**Returns**\n",
    "1. `decoded_message`: A list of integers $\\in \\{0 , 1\\}$ based on measurement outcomes of the `encoded_message`\n",
    "2. `measured_bases`: The list of random bases Bob chose to measure in. `0` indicates $Z$-basis, `1` indicates $X$-basis         "
   ]
  },
  {
   "cell_type": "code",
   "execution_count": 170,
   "id": "8539c729-5860-49e9-abb8-24a359329975",
   "metadata": {},
   "outputs": [
    {
     "data": {
      "text/plain": [
       "[{1: 1.0},\n",
       " {0: 0.4912109375, 1: 0.5087890625},\n",
       " {0: 1.0},\n",
       " {0: 1.0},\n",
       " {0: 0.498046875, 1: 0.501953125},\n",
       " {0: 1.0},\n",
       " {0: 0.494140625, 1: 0.505859375},\n",
       " {1: 1.0},\n",
       " {0: 1.0},\n",
       " {0: 0.517578125, 1: 0.482421875}]"
      ]
     },
     "execution_count": 170,
     "metadata": {},
     "output_type": "execute_result"
    }
   ],
   "source": [
    "def bob_decoding(encoded_message):\n",
    "    measured_bases = []\n",
    "    decoded_message = []\n",
    "\n",
    "    for qubit in range(len(encoded_message)):\n",
    "        random_basis = RandomBit()\n",
    "        measured_bases.append(random_basis)\n",
    "        qc = encoded_message[qubit]\n",
    "        if random_basis != 0:\n",
    "            qc.h(0)\n",
    "        qc.measure(0,0)\n",
    "        #run on sim\n",
    "        sampler = Sampler()\n",
    "        sampler.set_options(shots=1024)\n",
    "        results = sampler.run(qc).result()\n",
    "        decoded_message.append(results.quasi_dists[0])\n",
    "        \n",
    "    return measured_bases, decoded_message"
   ]
  },
  {
   "cell_type": "markdown",
   "id": "cd02f39f-51c9-41b3-9523-5f575c1dca3b",
   "metadata": {},
   "source": [
    "### Task 3.4: Putting it all together\n",
    "\n",
    "So now we just need to call our operations in the right order to perform key distribution. The length of generated keys is probabilistic, since we do not know how many times the sender and the receiver will choose the same basis. Our BB84 operation takes an argument $N$ which specifies the number of protocol iterations we run. The length of our key will be between 0 and N, and on average it will be $\\frac{1}{2}N$.\n",
    "\n",
    "**Summary**\n",
    "\n",
    "This operation acts as the intermediary exchanging both classical and quantum information between parties.\n",
    "$N$ controls the number of qubits transmitted, so our final key will be of length less than or equal to $N$.\n",
    "\n",
    "**Input**\n",
    "\n",
    "`n`: The number of qubits to attempt key distribution with. \n",
    "\n",
    "**Returns**\n",
    "\n",
    "1. The preparation bases the sender (Alice) used.\n",
    "2. The measurement bases the receiver (Bob) used.\n",
    "3. The bits that the sender encoded.\n",
    "4. The bits that were measured by the receiver.\n",
    "5. Alice's key that the Alice made after comparing bases.\n",
    "6. Bob's key from measurements of of the quantum circuits"
   ]
  },
  {
   "cell_type": "code",
   "execution_count": 176,
   "id": "6a18bccb-4b1e-4faa-bd5b-9157c78eede6",
   "metadata": {},
   "outputs": [],
   "source": [
    "def bb84_protocol(n):\n",
    "    alice_qc, alice_randomBits, alice_randomBases = alice_encoding(n)\n",
    "    bob_measured_bases, bob_decoded_message = bob_decoding(alice_qc)\n",
    "    alice_key = []\n",
    "    bob_key = []\n",
    "    for index in range(n):\n",
    "        if alice_randomBases[index] == bob_measured_bases[index]:\n",
    "            alice_key.append(alice_randomBases[index])\n",
    "        if len(bob_decoded_message[index]) == 1:\n",
    "            bob_key.append(list(bob_decoded_message[index].keys())[0])\n",
    "            bob_decoded_message[index] = list(bob_decoded_message[index].keys())[0]\n",
    "\n",
    "    return alice_randomBases, bob_measured_bases, alice_randomBits, bob_decoded_message, alice_key, bob_key          "
   ]
  },
  {
   "cell_type": "markdown",
   "id": "3ac9427e-329e-4740-87f5-c28e5e081d28",
   "metadata": {},
   "source": [
    "### Check your work"
   ]
  },
  {
   "cell_type": "code",
   "execution_count": 178,
   "id": "5398cb70-eb35-4378-9e4f-b6569aaf9680",
   "metadata": {},
   "outputs": [
    {
     "name": "stdout",
     "output_type": "stream",
     "text": [
      "Let's compare this to the selected bases, and the transmitted qubit states\n",
      "Alice's bases were:       | X | X | Z | X | X | Z | Z | X | X | X |\n",
      "Bob's bases were:         | X | X | Z | Z | Z | Z | X | Z | X | Z |\n",
      "Both bases match (yes/no):| y | y | y | n | n | y | n | n | y | n |\n",
      "Alice's encoded bit:      | 1 | 0 | 0 | 0 | 1 | 0 | 0 | 0 | 0 | 1 |\n",
      "The states sent were:     ||->||+>||0>||+>||->||0>||0>||+>||+>||->|\n",
      "Bob measured:             | 1 | 0 | 0 | 0 | 0 | 0 | 0 | 0 | 0 | 0 |\n",
      "Notice how the key is formed by the bits where bases are equal\n",
      "Bob's key:                | 1 | 0 | 0 |   |   | 0 |   |   | 0 |   |\n",
      "Alice's key:              | 1 | 0 | 0 |   |   | 0 |   |   | 0 |   |\n",
      "The key that was generated was [1, 0, 0, 0, 0]\n",
      "\n"
     ]
    }
   ],
   "source": [
    "def formatOutput(basesS, basesR, bitS, bitR, key1, key2):\n",
    "    keyCopy = key2.copy()\n",
    "    same = \"|\" \n",
    "    basisSentChar = \"|\"\n",
    "    basisRecChar = \"|\"\n",
    "    bitSent = \"|\"\n",
    "    bitRec = \"|\"\n",
    "    keyS = \"|\"\n",
    "    keyR = \"|\"\n",
    "    stateSent = \"|\"\n",
    "    for i in range(len(basesR)):\n",
    "        bitSent += ' 1 |' if bitS[i] == 1 else ' 0 |'\n",
    "        bitRec += ' 1 |' if bitR[i] == 1 else ' 0 |'\n",
    "        same += ' y |' if basesR[i] == basesS[i] else ' n |'\n",
    "        keyS += ' {} |'.format(bitS[i]) if basesR[i] == basesS[i] else \"   |\"\n",
    "        keyR += ' {} |'.format(key2.pop(0)) if basesR[i] == basesS[i] else \"   |\"\n",
    "        basisRecChar += ' Z |' if basesR[i] == 0 else ' X |'\n",
    "        if basesS[i] == 0:\n",
    "            stateSent += \"|0>|\" if bitS[i] == 0 else \"|1>|\"\n",
    "            basisSentChar += \" Z |\"\n",
    "        else:\n",
    "            stateSent += \"|+>|\" if bitS[i] == 0 else \"|->|\"\n",
    "            basisSentChar += \" X |\"\n",
    "\n",
    "    print(\"Let's compare this to the selected bases, and the transmitted qubit states\")\n",
    "    print(\"Alice's bases were:       {}\".format(basisSentChar))\n",
    "    print(\"Bob's bases were:         {}\".format(basisRecChar))\n",
    "    print(\"Both bases match (yes/no):{}\".format(same))\n",
    "    print(\"Alice's encoded bit:      {}\".format(bitSent))\n",
    "    print(\"The states sent were:     {}\".format(stateSent))\n",
    "    print(\"Bob measured:             {}\".format(bitRec))\n",
    "    print(\"Notice how the key is formed by the bits where bases are equal\")\n",
    "    print(\"Bob's key:                {}\".format(keyR))\n",
    "    print(\"Alice's key:              {}\".format(keyS))\n",
    "    print(\"The key that was generated was {}\\n\".format(keyCopy))\n",
    "(basesS, basesR, bitS, bitR, alice_key, bob_key) = bb84_protocol(10)\n",
    "formatOutput(basesS, basesR, bitS, bitR, alice_key, bob_key)"
   ]
  },
  {
   "cell_type": "code",
   "execution_count": null,
   "id": "deb67b81-8c05-4262-b0cb-db1d14c42b0e",
   "metadata": {},
   "outputs": [],
   "source": []
  },
  {
   "cell_type": "code",
   "execution_count": null,
   "id": "a27a4ac2-21bd-4c12-98d8-af05c4cf6780",
   "metadata": {},
   "outputs": [],
   "source": []
  }
 ],
 "metadata": {
  "kernelspec": {
   "display_name": "Python 3 (ipykernel)",
   "language": "python",
   "name": "python3"
  },
  "language_info": {
   "codemirror_mode": {
    "name": "ipython",
    "version": 3
   },
   "file_extension": ".py",
   "mimetype": "text/x-python",
   "name": "python",
   "nbconvert_exporter": "python",
   "pygments_lexer": "ipython3",
   "version": "3.11.7"
  }
 },
 "nbformat": 4,
 "nbformat_minor": 5
}
