{
 "cells": [
  {
   "cell_type": "code",
   "execution_count": 25,
   "id": "4d7765f1-9510-4a10-b5aa-dc08c6fadf9f",
   "metadata": {},
   "outputs": [],
   "source": [
    "import pennylane as qml"
   ]
  },
  {
   "cell_type": "code",
   "execution_count": 26,
   "id": "ff6d2524-ee7b-48a7-addf-228fe14d6201",
   "metadata": {},
   "outputs": [],
   "source": [
    "dev_unique_wires = qml.device('default.qubit', wires=['A', 'B'])\n",
    "@qml.qnode(dev_unique_wires)\n",
    "def superDenseCoding(cbit1, cbit2):\n",
    "    qml.Hadamard(wires='A')\n",
    "    qml.CNOT(wires=['A','B'])\n",
    "    if cbit1 != 0:\n",
    "        qml.PauliZ(wires='A')\n",
    "    if cbit2 != 0:\n",
    "        qml.PauliX(wires='A') \n",
    "    qml.CNOT(wires=['A','B'])\n",
    "    qml.Hadamard(wires='A')\n",
    "    return qml.probs(wires=['A','B'])"
   ]
  },
  {
   "cell_type": "code",
   "execution_count": 27,
   "id": "942b9cef-c717-40ff-a1dd-d0e7598b060e",
   "metadata": {},
   "outputs": [
    {
     "data": {
      "text/plain": [
       "tensor([1., 0., 0., 0.], requires_grad=True)"
      ]
     },
     "execution_count": 27,
     "metadata": {},
     "output_type": "execute_result"
    }
   ],
   "source": [
    "c = 0\n",
    "d = 0\n",
    "qnode = qml.QNode(superDenseCoding, dev_unique_wires)\n",
    "qnode(c, d)\n"
   ]
  },
  {
   "cell_type": "markdown",
   "id": "469c96a2-1507-4312-a3f1-af8fcf5f4204",
   "metadata": {},
   "source": [
    "**PART2**"
   ]
  },
  {
   "cell_type": "code",
   "execution_count": 28,
   "id": "76afff98-8345-4173-b518-8ea2414b5b80",
   "metadata": {},
   "outputs": [],
   "source": [
    "dev_unique_wires = qml.device('default.qubit', wires=['A', 'B'])\n",
    "@qml.qnode(dev_unique_wires)\n",
    "def superDenseCoding(cbit1, cbit2):\n",
    "    qml.Hadamard(wires='A')\n",
    "    qml.PauliX(wires='B')\n",
    "    qml.CNOT(wires=['A','B'])\n",
    "    if cbit1 != 0:\n",
    "        qml.PauliZ(wires='A')\n",
    "    if cbit2 != 0:\n",
    "        qml.PauliX(wires='A') \n",
    "    qml.CNOT(wires=['A','B'])\n",
    "    qml.Hadamard(wires='A')\n",
    "    return qml.probs(wires=['A','B'])"
   ]
  },
  {
   "cell_type": "code",
   "execution_count": 32,
   "id": "4542eefb-9d43-4736-8657-cb5d395c882a",
   "metadata": {},
   "outputs": [
    {
     "data": {
      "text/plain": [
       "tensor([0., 1., 0., 0.], requires_grad=True)"
      ]
     },
     "execution_count": 32,
     "metadata": {},
     "output_type": "execute_result"
    }
   ],
   "source": [
    "c = 0\n",
    "d = 0\n",
    "qnode = qml.QNode(superDenseCoding, dev_unique_wires)\n",
    "qnode(c, d)"
   ]
  },
  {
   "cell_type": "markdown",
   "id": "3b8a0213-fa56-4610-997c-bb19102dacf4",
   "metadata": {},
   "source": [
    "In this case Bob can no longer determine which Bell state Alice is trying to send over **IF** they didn't communicate which initial Bell state they were to share. If Bob thinks their initial Bell state was still ∣ϕ \n",
    "+\n",
    " ⟩ then by using this superDenseCoding function he will not get the correct classical bits from Alice. However, if they change the initial agreed Bell state to ∣\n",
    "ψ\n",
    "+\n",
    "⟩\n",
    "then Bob can determine which Bell state Alice was trying to send over."
   ]
  },
  {
   "cell_type": "code",
   "execution_count": null,
   "id": "65c74fe2-dd22-47bb-aa06-b0d196ec1643",
   "metadata": {},
   "outputs": [],
   "source": []
  }
 ],
 "metadata": {
  "kernelspec": {
   "display_name": "Python 3 (ipykernel)",
   "language": "python",
   "name": "python3"
  },
  "language_info": {
   "codemirror_mode": {
    "name": "ipython",
    "version": 3
   },
   "file_extension": ".py",
   "mimetype": "text/x-python",
   "name": "python",
   "nbconvert_exporter": "python",
   "pygments_lexer": "ipython3",
   "version": "3.11.7"
  }
 },
 "nbformat": 4,
 "nbformat_minor": 5
}
